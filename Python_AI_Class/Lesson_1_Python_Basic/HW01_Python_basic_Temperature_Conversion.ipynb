{
 "cells": [
  {
   "cell_type": "markdown",
   "metadata": {},
   "source": [
    "# Please do temperature conversion. Given a Celsius temperature, please change it to Fahrenheit"
   ]
  },
  {
   "cell_type": "code",
   "execution_count": 4,
   "metadata": {},
   "outputs": [
    {
     "name": "stdout",
     "output_type": "stream",
     "text": [
      "Please input degree Celsius: 100\n",
      "Celsius is: 100.0\n",
      "\n",
      "Fahrenheit is:  212.0\n"
     ]
    }
   ],
   "source": [
    "c = float(input('Please input degree Celsius: '))\n",
    "print('Celsius is: ', end='')\n",
    "print(c)\n",
    "\n",
    "## write your code here\n",
    "\n",
    "f = 9/5*c + 32\n",
    "print('\\nFahrenheit is: ', f)"
   ]
  },
  {
   "cell_type": "code",
   "execution_count": null,
   "metadata": {},
   "outputs": [],
   "source": []
  }
 ],
 "metadata": {
  "kernelspec": {
   "display_name": "Python 3",
   "language": "python",
   "name": "python3"
  },
  "language_info": {
   "codemirror_mode": {
    "name": "ipython",
    "version": 3
   },
   "file_extension": ".py",
   "mimetype": "text/x-python",
   "name": "python",
   "nbconvert_exporter": "python",
   "pygments_lexer": "ipython3",
   "version": "3.7.4"
  }
 },
 "nbformat": 4,
 "nbformat_minor": 4
}
