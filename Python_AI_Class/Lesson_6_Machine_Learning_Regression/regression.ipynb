{
 "cells": [
  {
   "cell_type": "markdown",
   "metadata": {},
   "source": [
    "# Linear Regression\n",
    "diabetes dataset description:  \n",
    "https://scikit-learn.org/stable/modules/generated/sklearn.datasets.load_diabetes.html    \n",
    "https://scikit-learn.org/stable/datasets/index.html#diabetes-dataset  \n",
    "linear regression model:  \n",
    "http://scikit-learn.org/stable/modules/generated/sklearn.linear_model.LinearRegression.html"
   ]
  },
  {
   "cell_type": "code",
   "execution_count": 4,
   "metadata": {},
   "outputs": [
    {
     "name": "stdout",
     "output_type": "stream",
     "text": [
      "diabetes_X shape: (442, 10)\n",
      "diabetes_y shape: (442,)\n",
      "Coefficients: [ -26.2759041  -231.92697391  566.49859849  303.08631061 -709.86807128\n",
      "  428.67719627   82.12319677  165.60628133  729.33691844   42.58281733]\n",
      "\n",
      "Mean squared error: 3319.6925871395597\n",
      "R2 score: 0.3174949176473588\n"
     ]
    }
   ],
   "source": [
    "import numpy as np\n",
    "from sklearn import datasets, linear_model\n",
    "from sklearn.metrics import mean_squared_error, r2_score\n",
    "from sklearn.model_selection import train_test_split\n",
    "from sklearn import preprocessing\n",
    "\n",
    "# Load the diabetes dataset (以糖尿病為例)\n",
    "# All data had been normalized\n",
    "diabetes = datasets.load_diabetes()\n",
    "\n",
    "# use all of features \n",
    "diabetes_X = diabetes.data\n",
    "diabetes_y = diabetes.target\n",
    "#print(diabetes_y)\n",
    "\n",
    "print(\"diabetes_X shape: {}\".format(diabetes_X.shape))\n",
    "print(\"diabetes_y shape: {}\".format(diabetes_y.shape))\n",
    "\n",
    "\n",
    "#Split dataset into training/testing data\n",
    "diabetes_X_train, diabetes_X_test, diabetes_y_train, diabetes_y_test = train_test_split(diabetes_X, diabetes_y, test_size=0.1, random_state=1)\n",
    "\n",
    "\n",
    "#if you want to normalize data again, you can umcomment these section\n",
    "'''\n",
    "scaler = preprocessing.StandardScaler().fit(diabetes_X_train)\n",
    "diabetes_X_train = scaler.transform(diabetes_X_train)\n",
    "'''\n",
    "\n",
    "#Build Linear regression model\n",
    "model = linear_model.LinearRegression()\n",
    "\n",
    "# Train the model using the training sets\n",
    "model.fit(diabetes_X_train, diabetes_y_train)\n",
    "\n",
    "\n",
    "\n",
    "#if you want to normalize data again, you can umcomment these section\n",
    "'''\n",
    "diabetes_X_test = scaler.transform(diabetes_X_test)\n",
    "'''\n",
    "# Make predictions using the testing set\n",
    "diabetes_y_pred = model.predict(diabetes_X_test)\n",
    "\n",
    "# The coefficients\n",
    "print('Coefficients: {}\\n'.format(model.coef_))\n",
    "# The mean squared error\n",
    "print(\"Mean squared error: {}\".format((mean_squared_error(diabetes_y_test, diabetes_y_pred))))\n",
    "# Explained variance score: 1 is perfect prediction\n",
    "print('R2 score: {}'.format(r2_score(diabetes_y_test, diabetes_y_pred)))                         "
   ]
  },
  {
   "cell_type": "code",
   "execution_count": 22,
   "metadata": {},
   "outputs": [
    {
     "name": "stdout",
     "output_type": "stream",
     "text": [
      "Coefficients: [717.54004052]\n",
      "\n",
      "Mean squared error: 3852.2115862986325\n",
      "R2 score: 0.20801281536373262\n"
     ]
    },
    {
     "data": {
      "image/png": "[encoded data removed]",
      "text/plain": [
       "<Figure size 432x288 with 1 Axes>"
      ]
     },
     "metadata": {},
     "output_type": "display_data"
    }
   ],
   "source": [
    "%matplotlib inline \n",
    "import matplotlib.pyplot as plt\n",
    "import numpy as np\n",
    "from sklearn import datasets, linear_model\n",
    "from sklearn.metrics import mean_squared_error, r2_score\n",
    "from sklearn.model_selection import train_test_split\n",
    "\n",
    "# Load the diabetes dataset (以糖尿病為例)\n",
    "# All data had been normalized\n",
    "diabetes = datasets.load_diabetes()\n",
    "\n",
    "# Use attribute 3 as the data (total 10 vector) \n",
    "diabetes_X = diabetes.data[:, None, 3]\n",
    "\n",
    "diabetes_y = diabetes.target\n",
    "\n",
    "#Split dataset into training/testing data\n",
    "diabetes_X_train, diabetes_X_test, diabetes_y_train, diabetes_y_test = train_test_split(diabetes_X, diabetes_y, test_size=0.1, random_state=1)\n",
    "\n",
    "#Build Linear regression model\n",
    "model = linear_model.LinearRegression()\n",
    "\n",
    "# Train the model using the training sets\n",
    "model.fit(diabetes_X_train, diabetes_y_train)\n",
    "\n",
    "# Make predictions using the testing set\n",
    "diabetes_y_pred = model.predict(diabetes_X_test)\n",
    "\n",
    "# The coefficients\n",
    "print('Coefficients: {}\\n'.format(model.coef_))\n",
    "# The mean squared error\n",
    "print(\"Mean squared error: {}\".format((mean_squared_error(diabetes_y_test, diabetes_y_pred))))\n",
    "# Explained variance score: 1 is perfect prediction\n",
    "print('R2 score: {}'.format(r2_score(diabetes_y_test, diabetes_y_pred)))\n",
    "                                      \n",
    "# Plot outputs\n",
    "plt.scatter(diabetes_X_test, diabetes_y_test,  color='black')\n",
    "plt.plot(diabetes_X_test, diabetes_y_pred, color='blue', linewidth=3)\n",
    "\n",
    "plt.xticks(())\n",
    "plt.yticks(())\n",
    "\n",
    "plt.show()"
   ]
  },
  {
   "cell_type": "markdown",
   "metadata": {},
   "source": [
    "# Polynomial Regression\n",
    "linear regression model:  \n",
    "http://scikit-learn.org/stable/modules/generated/sklearn.preprocessing.PolynomialFeatures.html"
   ]
  },
  {
   "cell_type": "code",
   "execution_count": 11,
   "metadata": {},
   "outputs": [
    {
     "name": "stdout",
     "output_type": "stream",
     "text": [
      "X is \n",
      "[[0 1]\n",
      " [2 3]\n",
      " [4 5]]\n",
      "X_poly is \n",
      "[[ 1.  0.  1.  0.  0.  1.]\n",
      " [ 1.  2.  3.  4.  6.  9.]\n",
      " [ 1.  4.  5. 16. 20. 25.]]\n"
     ]
    }
   ],
   "source": [
    "import numpy as np\n",
    "from sklearn.preprocessing import PolynomialFeatures\n",
    "X = np.arange(6).reshape(3, 2)\n",
    "\n",
    "print('X is \\n{}'.format(X))\n",
    "\n",
    "poly = PolynomialFeatures(2)\n",
    "X_poly = poly.fit_transform(X) # mean fit + transform\n",
    "\n",
    "print('X_poly is \\n{}'.format(X_poly))"
   ]
  },
  {
   "cell_type": "code",
   "execution_count": 12,
   "metadata": {},
   "outputs": [
    {
     "name": "stdout",
     "output_type": "stream",
     "text": [
      "after reshaping, shape of X is (100, 1)\n",
      "origin X is [[1.01010101]\n",
      " [5.65656566]\n",
      " [6.86868687]\n",
      " [4.24242424]\n",
      " [3.93939394]]:\n",
      "after ploy transform X is [[ 1.          1.01010101  1.02030405]\n",
      " [ 1.          5.65656566 31.99673503]\n",
      " [ 1.          6.86868687 47.1788593 ]\n",
      " [ 1.          4.24242424 17.99816345]\n",
      " [ 1.          3.93939394 15.51882461]]:\n",
      "Coefficients: [[ 0.         -2.89195639  4.06568914]]\n",
      "\n",
      "Mean squared error: 14.752825712412204\n",
      "Variance score: -0.0068023029359898235\n"
     ]
    }
   ],
   "source": [
    "import numpy as np\n",
    "import matplotlib.pyplot as plt\n",
    "from sklearn.preprocessing import PolynomialFeatures\n",
    "\n",
    "def f(x):\n",
    "    \"\"\" function to approximate by polynomial interpolation\"\"\"\n",
    "    return x * np.sin(x)\n",
    "\n",
    "\n",
    "# create 100 data points that is uniformly in the range [0, 10] \n",
    "X = np.linspace(0, 10, 100)\n",
    "np.random.shuffle(X)\n",
    "X = X.reshape(-1,1)\n",
    "y = f(X)\n",
    "print('after reshaping, shape of X is {}'.format(X.shape))\n",
    "\n",
    "# show origin X data (only the first 5 data points)\n",
    "print('origin X is {}:'.format(X[:5]))\n",
    "\n",
    "poly = PolynomialFeatures(degree=2).fit(X)\n",
    "X_poly = poly.transform(X)\n",
    "\n",
    "# show poly transform X data (only the first 5 data points)\n",
    "print('after ploy transform X is {}:'.format(X_poly[:5]))\n",
    "\n",
    "\n",
    "X_train,X_test,y_train,y_test=train_test_split(X_poly,y,test_size=0.3,random_state=1) #random_state 種子值\n",
    "\n",
    "scaler = preprocessing.StandardScaler().fit(X_train)\n",
    "X_train = scaler.transform(X_train)\n",
    "\n",
    "model = linear_model.LinearRegression()\n",
    "model.fit(X_train, y_train)\n",
    "\n",
    "X_test = scaler.transform(X_test)\n",
    "y_pred = model.predict(X_test)\n",
    "\n",
    "# The coefficients\n",
    "print('Coefficients: {}\\n'.format(model.coef_))\n",
    "# The mean squared error\n",
    "print(\"Mean squared error: {}\".format(mean_squared_error(y_test, y_pred)))\n",
    "# Explained variance score: 1 is perfect prediction\n",
    "print('Variance score: {}'.format(r2_score(y_test, y_pred)))"
   ]
  },
  {
   "cell_type": "code",
   "execution_count": 13,
   "metadata": {},
   "outputs": [
    {
     "name": "stdout",
     "output_type": "stream",
     "text": [
      "after reshaping, shape of X is (100, 1)\n",
      "origin X is [[0.60606061]\n",
      " [9.09090909]\n",
      " [2.12121212]\n",
      " [3.73737374]\n",
      " [8.58585859]]:\n",
      "after ploy transform X is [[ 1.          0.60606061  0.36730946]\n",
      " [ 1.          9.09090909 82.6446281 ]\n",
      " [ 1.          2.12121212  4.49954086]\n",
      " [ 1.          3.73737374 13.96796245]\n",
      " [ 1.          8.58585859 73.71696766]]:\n",
      "Coefficients: [[ 0.         -9.13719817 31.56311501]]\n",
      "\n",
      "Mean squared error: 3.591289271018656e-29\n",
      "Variance score: 1.0\n"
     ]
    }
   ],
   "source": [
    "import numpy as np\n",
    "import matplotlib.pyplot as plt\n",
    "from sklearn.preprocessing import PolynomialFeatures\n",
    "\n",
    "def f(x):\n",
    "    \"\"\" function to approximate by polynomial interpolation\"\"\"\n",
    "    return x * x - 3 *x  + 1\n",
    "\n",
    "\n",
    "# create 100 data points that is uniformly in the range [0, 10] \n",
    "X = np.linspace(0, 10, 100)\n",
    "np.random.shuffle(X)\n",
    "X = X.reshape(-1,1)\n",
    "y = f(X)\n",
    "print('after reshaping, shape of X is {}'.format(X.shape))\n",
    "\n",
    "# show origin X data (only the first 5 data points)\n",
    "print('origin X is {}:'.format(X[:5]))\n",
    "\n",
    "poly = PolynomialFeatures(degree=2).fit(X)\n",
    "X_poly = poly.transform(X)\n",
    "\n",
    "# show poly transform X data (only the first 5 data points)\n",
    "print('after ploy transform X is {}:'.format(X_poly[:5]))\n",
    "\n",
    "\n",
    "X_train,X_test,y_train,y_test=train_test_split(X_poly,y,test_size=0.3,random_state=1) #random_state 種子值\n",
    "\n",
    "scaler = preprocessing.StandardScaler().fit(X_train)\n",
    "X_train = scaler.transform(X_train)\n",
    "\n",
    "model = linear_model.LinearRegression()\n",
    "model.fit(X_train, y_train)\n",
    "\n",
    "X_test = scaler.transform(X_test)\n",
    "y_pred = model.predict(X_test)\n",
    "\n",
    "# The coefficients\n",
    "print('Coefficients: {}\\n'.format(model.coef_))\n",
    "# The mean squared error\n",
    "print(\"Mean squared error: {}\".format(mean_squared_error(y_test, y_pred)))\n",
    "# Explained variance score: 1 is perfect prediction\n",
    "print('Variance score: {}'.format(r2_score(y_test, y_pred)))"
   ]
  },
  {
   "cell_type": "code",
   "execution_count": 18,
   "metadata": {},
   "outputs": [
    {
     "name": "stdout",
     "output_type": "stream",
     "text": [
      "rmse is 11.901779012038904\n",
      "R2 is 0.9830071790386679\n"
     ]
    },
    {
     "data": {
      "image/png": "[encoded data removed]",
      "text/plain": [
       "<Figure size 432x288 with 1 Axes>"
      ]
     },
     "metadata": {
      "needs_background": "light"
     },
     "output_type": "display_data"
    }
   ],
   "source": [
    "import operator\n",
    "import numpy as np\n",
    "import matplotlib.pyplot as plt\n",
    "from sklearn.linear_model import LinearRegression\n",
    "from sklearn.metrics import mean_squared_error, r2_score\n",
    "from sklearn.preprocessing import PolynomialFeatures\n",
    "\n",
    "np.random.seed(0)\n",
    "x = 2 - 3 * np.random.normal(0, 1, 20)\n",
    "y = x - 2 * (x ** 2) + 0.5 * (x ** 3) + np.random.normal(-3, 3, 20)\n",
    "\n",
    "# transforming the data to include another axis\n",
    "x = x[:, np.newaxis]\n",
    "y = y[:, np.newaxis]\n",
    "\n",
    "polynomial_features= PolynomialFeatures(degree=3)\n",
    "x_poly = polynomial_features.fit_transform(x)\n",
    "\n",
    "model = LinearRegression()\n",
    "model.fit(x_poly, y)\n",
    "y_poly_pred = model.predict(x_poly)\n",
    "\n",
    "rmse = mean_squared_error(y,y_poly_pred)\n",
    "r2 = r2_score(y,y_poly_pred)\n",
    "print('rmse is {}'.format(rmse))\n",
    "print('R2 is {}'.format(r2))\n",
    "\n",
    "plt.scatter(x, y, s=10)\n",
    "# sort the values of x before line plot\n",
    "sort_axis = operator.itemgetter(0)\n",
    "sorted_zip = sorted(zip(x,y_poly_pred), key=sort_axis)\n",
    "x, y_poly_pred = zip(*sorted_zip)\n",
    "plt.plot(x, y_poly_pred, color='m')\n",
    "plt.show()"
   ]
  },
  {
   "cell_type": "markdown",
   "metadata": {},
   "source": [
    "# Lasso, Ridge, Elastic Net  \n",
    "lasso model: https://scikit-learn.org/stable/modules/generated/sklearn.linear_model.Lasso.html   \n",
    "ridge model: https://scikit-learn.org/0.16/modules/generated/sklearn.linear_model.Ridge.html  \n",
    "elastic net: https://scikit-learn.org/0.15/modules/generated/sklearn.linear_model.ElasticNet.html"
   ]
  },
  {
   "cell_type": "code",
   "execution_count": 5,
   "metadata": {},
   "outputs": [
    {
     "name": "stdout",
     "output_type": "stream",
     "text": [
      "diabetes_X shape: (442, 10)\n",
      "diabetes_y shape: (442,)\n",
      "Coefficients: [  -0.         -151.56895849  566.82501586  250.90395361  -33.16139056\n",
      "   -0.         -201.40901228    0.          479.2968561     8.80738069]\n",
      "\n",
      "Mean squared error: 3458.8918346487935\n",
      "R2 score: 0.28887654670157903\n",
      "number of model coef: 7\n"
     ]
    }
   ],
   "source": [
    "import numpy as np\n",
    "from sklearn import datasets, linear_model\n",
    "from sklearn.metrics import mean_squared_error, r2_score\n",
    "from sklearn.model_selection import train_test_split\n",
    "\n",
    "# Load the diabetes dataset (以糖尿病為例)\n",
    "# All data had been normalized\n",
    "diabetes = datasets.load_diabetes()\n",
    "\n",
    "# use all of features \n",
    "diabetes_X = diabetes.data\n",
    "diabetes_y = diabetes.target\n",
    "\n",
    "print(\"diabetes_X shape: {}\".format(diabetes_X.shape))\n",
    "print(\"diabetes_y shape: {}\".format(diabetes_y.shape))\n",
    "\n",
    "\n",
    "#Split dataset into training/testing data\n",
    "diabetes_X_train, diabetes_X_test, diabetes_y_train, diabetes_y_test = train_test_split(diabetes_X, diabetes_y, test_size=0.1, random_state=1)\n",
    "\n",
    "#Build model\n",
    "model = linear_model.Lasso(alpha=0.1)\n",
    "#model = linear_model.Ridge(alpha=1.0)\n",
    "#model = linear_model.ElasticNet(alpha=1.0, l1_ratio=0.5)\n",
    "\n",
    "# Train the model using the training sets\n",
    "model.fit(diabetes_X_train, diabetes_y_train)\n",
    "\n",
    "# Make predictions using the testing set\n",
    "diabetes_y_pred = model.predict(diabetes_X_test)\n",
    "\n",
    "# The coefficients\n",
    "print('Coefficients: {}\\n'.format(model.coef_))\n",
    "# The mean squared error\n",
    "print(\"Mean squared error: {}\".format((mean_squared_error(diabetes_y_test, diabetes_y_pred))))\n",
    "# Explained variance score: 1 is perfect prediction\n",
    "print('R2 score: {}'.format(r2_score(diabetes_y_test, diabetes_y_pred)))\n",
    "print('number of model coef: {}'.format(np.sum(model.coef_ != 0)))"
   ]
  },
  {
   "cell_type": "code",
   "execution_count": 6,
   "metadata": {},
   "outputs": [
    {
     "name": "stdout",
     "output_type": "stream",
     "text": [
      "[  -0.         -151.56895849  566.82501586  250.90395361  -33.16139056\n",
      "   -0.         -201.40901228    0.          479.2968561     8.80738069]\n",
      "[False  True  True  True  True False  True False  True  True]\n",
      "before feature extraction, diabete_X shape: (442, 10)\n",
      "after feature extraction, diabete_X shape: (442, 7)\n"
     ]
    }
   ],
   "source": [
    "mask = (model.coef_ != 0)\n",
    "print(model.coef_)\n",
    "print(mask)\n",
    "print('before feature extraction, diabete_X shape: {}'.format(diabetes_X.shape))\n",
    "diabetes_X = diabetes_X[:, mask]\n",
    "print('after feature extraction, diabete_X shape: {}'.format(diabetes_X.shape))"
   ]
  },
  {
   "cell_type": "code",
   "execution_count": 7,
   "metadata": {},
   "outputs": [
    {
     "name": "stdout",
     "output_type": "stream",
     "text": [
      "[False False False  True  True]\n",
      "[4 5]\n"
     ]
    }
   ],
   "source": [
    "import numpy as np\n",
    "my_numpy = np.array([1,2,3,4,5])\n",
    "bool_index = my_numpy > 3\n",
    "print(bool_index)\n",
    "print(my_numpy[bool_index])"
   ]
  },
  {
   "cell_type": "code",
   "execution_count": null,
   "metadata": {},
   "outputs": [],
   "source": []
  }
 ],
 "metadata": {
  "kernelspec": {
   "display_name": "Python 3",
   "language": "python",
   "name": "python3"
  },
  "language_info": {
   "codemirror_mode": {
    "name": "ipython",
    "version": 3
   },
   "file_extension": ".py",
   "mimetype": "text/x-python",
   "name": "python",
   "nbconvert_exporter": "python",
   "pygments_lexer": "ipython3",
   "version": "3.7.4"
  }
 },
 "nbformat": 4,
 "nbformat_minor": 2
}
