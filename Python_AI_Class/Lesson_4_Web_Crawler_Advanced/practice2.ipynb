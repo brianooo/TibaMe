{
 "cells": [
  {
   "cell_type": "markdown",
   "metadata": {},
   "source": [
    "# Crawl File Practice\n",
    "Please download 109 國文 past paper in following link(including 試題內容 and 選擇題答案):  \n",
    "url: https://www.go100.com.tw/exam_download_3.php"
   ]
  },
  {
   "cell_type": "code",
   "execution_count": 24,
   "metadata": {},
   "outputs": [],
   "source": [
    "# -*- coding: utf-8 -*-\n",
    "import requests\n",
    "from bs4 import BeautifulSoup\n",
    "from urllib.request import urlretrieve\n",
    "\n",
    "url='https://www.go100.com.tw/exam_download_3.php'\n",
    "## write your code here\n"
   ]
  },
  {
   "cell_type": "markdown",
   "metadata": {
    "collapsed": true
   },
   "source": [
    "# Crawl the following table in folllowing link  \n",
    "crawl \"亞洲股市指數行情\" table and save it as a csv file\n",
    "url: http://www.stockq.org/"
   ]
  },
  {
   "cell_type": "code",
   "execution_count": 29,
   "metadata": {},
   "outputs": [
    {
     "name": "stdout",
     "output_type": "stream",
     "text": [
      "           0         1         2         3         4\n",
      "0   亞洲股市指數行情  亞洲股市指數行情  亞洲股市指數行情  亞洲股市指數行情  亞洲股市指數行情\n",
      "1         股市        指數        漲跌        比例        當地\n",
      "2        紐西蘭   9963.90    -67.76    -0.68%     18:03\n",
      "3       澳洲股市   5439.40    180.60     3.43%     04/09\n",
      "4      日經225  19498.50    152.73     0.79%     15:15\n",
      "5       東證一部   1430.04     13.06     0.92%     15:00\n",
      "6       東證二部   5494.60     26.24     0.48%     15:00\n",
      "7     JASDAQ    137.40      0.01     0.01%     15:00\n",
      "8       韓國股市   1860.70     24.49     1.33%     18:01\n",
      "9       台灣加權  10157.61     38.18     0.38%     13:33\n",
      "10      台灣店頭    126.36      1.05     0.84%     13:33\n",
      "11      上海綜合   2796.63    -29.27    -1.04%     15:59\n",
      "12      上海A股   2930.86    -30.68    -1.04%     15:59\n",
      "13      上海B股    217.63     -2.08    -0.94%     15:59\n",
      "14      深圳A股   1801.03    -35.76    -1.95%     16:29\n",
      "15      深圳B股    828.27    -10.07    -1.20%     16:29\n",
      "16     滬深300   3769.18    -23.63    -0.62%     15:59\n",
      "17      深證成指  10298.41   -164.63    -1.57%     16:29\n",
      "18      中小板指   6705.05   -146.44    -2.14%     16:29\n",
      "19      創業板指   1949.88    -47.25    -2.37%     16:29\n",
      "20      香港恆生  24300.33    329.96     1.38%     04/09\n",
      "21      香港國企   9811.12    129.17     1.33%     04/09\n",
      "22      香港紅籌   3803.18     82.03     2.20%     04/09\n",
      "23     香港創業板     75.34      1.25     1.68%     04/09\n",
      "24       新加坡   2571.32     31.88     1.26%     04/09\n",
      "25       菲律賓   5510.83      0.00        0%     04/08\n",
      "26      馬來西亞   1357.50    -12.26    -0.90%     17:05\n",
      "27      越南股市    757.94     -2.39    -0.31%     15:02\n",
      "28      泰國股市   1228.03     17.55     1.45%     16:53\n",
      "29      印尼股市   4649.08     22.38     0.48%     04/09\n",
      "30      印度股市  31159.62      0.00     0.00%     04/09\n"
     ]
    }
   ],
   "source": [
    "import pandas as pd\n",
    "\n",
    "## write your code here"
   ]
  },
  {
   "cell_type": "code",
   "execution_count": null,
   "metadata": {},
   "outputs": [],
   "source": []
  }
 ],
 "metadata": {
  "kernelspec": {
   "display_name": "Python 3",
   "language": "python",
   "name": "python3"
  },
  "language_info": {
   "codemirror_mode": {
    "name": "ipython",
    "version": 3
   },
   "file_extension": ".py",
   "mimetype": "text/x-python",
   "name": "python",
   "nbconvert_exporter": "python",
   "pygments_lexer": "ipython3",
   "version": "3.6.10"
  }
 },
 "nbformat": 4,
 "nbformat_minor": 2
}
